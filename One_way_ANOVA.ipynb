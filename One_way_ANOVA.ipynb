{
  "nbformat": 4,
  "nbformat_minor": 5,
  "metadata": {
    "kernelspec": {
      "display_name": "Python 3",
      "language": "python",
      "name": "python3"
    },
    "language_info": {
      "codemirror_mode": {
        "name": "ipython",
        "version": 3
      },
      "file_extension": ".py",
      "mimetype": "text/x-python",
      "name": "python",
      "nbconvert_exporter": "python",
      "pygments_lexer": "ipython3",
      "version": "3.8.8"
    },
    "colab": {
      "name": "One way ANOVA.ipynb",
      "provenance": [],
      "include_colab_link": true
    }
  },
  "cells": [
    {
      "cell_type": "markdown",
      "metadata": {
        "id": "view-in-github",
        "colab_type": "text"
      },
      "source": [
        "<a href=\"https://colab.research.google.com/github/visionnlp/Anova-From-Scratch-in-Python/blob/main/One_way_ANOVA.ipynb\" target=\"_parent\"><img src=\"https://colab.research.google.com/assets/colab-badge.svg\" alt=\"Open In Colab\"/></a>"
      ]
    },
    {
      "cell_type": "markdown",
      "metadata": {
        "id": "d952dd78"
      },
      "source": [
        "# One way ANOVA"
      ],
      "id": "d952dd78"
    },
    {
      "cell_type": "markdown",
      "metadata": {
        "id": "95626fe9"
      },
      "source": [
        "ANOVA is ths prametric statistical tool that helps to comparision of two or more sample means are significantly diffrent or not"
      ],
      "id": "95626fe9"
    },
    {
      "cell_type": "markdown",
      "metadata": {
        "id": "4502df00"
      },
      "source": [
        "Objectives: \n",
        "\n",
        "\n",
        "        1) To check there are any significant differences between the means of several independent groups.\n",
        "       \n",
        "        "
      ],
      "id": "4502df00"
    },
    {
      "cell_type": "markdown",
      "metadata": {
        "id": "4b0f9aa0"
      },
      "source": [
        "Hypothesis:\n",
        "\n",
        "\n",
        "          Null hypothesis: Groups means are equal (no variation in means of groups)\n",
        "            H0: μ1=μ2=…=μp\n",
        "          Alternative hypothesis: At least, one group mean is different from other groups\n",
        "            H1: All μ are not equal"
      ],
      "id": "4b0f9aa0"
    },
    {
      "cell_type": "markdown",
      "metadata": {
        "id": "d4c50001"
      },
      "source": [
        "One way Model\n",
        "\n",
        "       yij=m+ai+ϵij\n",
        "\n",
        "where Yij represents the j-th observation (j=1,2,…,ni) on the i-th treatment (i=1,2,…,k levels). So, Y23 represents the third observation using level 2 of the factor. m is the common effect for the whole experiment, ai represents the i-th treatment effect, and ϵij represents the random error present in the j-th observation on the i-th treatment."
      ],
      "id": "d4c50001"
    },
    {
      "cell_type": "markdown",
      "metadata": {
        "id": "ed0d9ab4"
      },
      "source": [
        "Parametric test assumptions : \n",
        "\n",
        "\n",
        "        1) Population distributions are Normal\n",
        "        2) Samples have equal variances\n",
        "        3) Indepedancy between groups"
      ],
      "id": "ed0d9ab4"
    },
    {
      "cell_type": "markdown",
      "metadata": {
        "id": "546e1188"
      },
      "source": [
        "Ex. A supervisor select 30 students to participate in a study. The students are simple randomly assigned to use one of three studying techniques for the next three months to prepare for an exam. At the end of the three months, all of the students take the same test.Use one-way ANOVA to determine if the average scores are the same across all three groups."
      ],
      "id": "546e1188"
    },
    {
      "cell_type": "code",
      "metadata": {
        "id": "eb4d3f53"
      },
      "source": [
        "sample1 = [85, 86, 88, 75, 78, 94, 98, 79, 71, 80]\n",
        "sample2 = [91, 92, 93, 85, 87, 84, 82, 88, 95, 96]\n",
        "sample3 = [79, 78, 88, 94, 92, 85, 83, 85, 82, 81]"
      ],
      "id": "eb4d3f53",
      "execution_count": null,
      "outputs": []
    },
    {
      "cell_type": "code",
      "metadata": {
        "id": "9d512c09",
        "outputId": "2557b2ed-ae9b-4120-88ef-44b8166df238"
      },
      "source": [
        "n1=len(sample1)\n",
        "n2=len(sample2)\n",
        "n3=len(sample3)\n",
        "print(n1)\n",
        "print(n2)\n",
        "print(n3)"
      ],
      "id": "9d512c09",
      "execution_count": null,
      "outputs": [
        {
          "name": "stdout",
          "output_type": "stream",
          "text": [
            "10\n",
            "10\n",
            "10\n"
          ]
        }
      ]
    },
    {
      "cell_type": "code",
      "metadata": {
        "id": "0b259f3c"
      },
      "source": [
        "n=n1+n2+n3"
      ],
      "id": "0b259f3c",
      "execution_count": null,
      "outputs": []
    },
    {
      "cell_type": "code",
      "metadata": {
        "id": "65909b8a"
      },
      "source": [
        "def mean(data):\n",
        "    return sum(data)/n1"
      ],
      "id": "65909b8a",
      "execution_count": null,
      "outputs": []
    },
    {
      "cell_type": "code",
      "metadata": {
        "id": "6454e359",
        "outputId": "af7ed6ed-1c83-4da0-a2ae-bcdee35a0a00"
      },
      "source": [
        "# Here we find mean of each sample\n",
        "x1bar=mean(sample1)\n",
        "x2bar=mean(sample2)\n",
        "x3bar=mean(sample3)\n",
        "print(x1bar)\n",
        "print(x2bar)\n",
        "print(x3bar)\n"
      ],
      "id": "6454e359",
      "execution_count": null,
      "outputs": [
        {
          "name": "stdout",
          "output_type": "stream",
          "text": [
            "83.4\n",
            "89.3\n",
            "84.7\n"
          ]
        }
      ]
    },
    {
      "cell_type": "code",
      "metadata": {
        "id": "97de53e2",
        "outputId": "182e9846-7a49-4856-cb1e-eef0c6244488"
      },
      "source": [
        "# finding total mean\n",
        "xbar=(sum(sample1)+sum(sample2)+sum(sample3))/n\n",
        "xbar"
      ],
      "id": "97de53e2",
      "execution_count": null,
      "outputs": [
        {
          "data": {
            "text/plain": [
              "85.8"
            ]
          },
          "execution_count": 10,
          "metadata": {},
          "output_type": "execute_result"
        }
      ]
    },
    {
      "cell_type": "code",
      "metadata": {
        "id": "c0c4edee"
      },
      "source": [
        "# we find sample variance = 1/n-1 sum((x-xbar)**2)\n",
        "def var(data,x_bar):\n",
        "    vx=(((sum([i**2 for i in data])))-((x_bar**2)*10))/9\n",
        "    return vx"
      ],
      "id": "c0c4edee",
      "execution_count": null,
      "outputs": []
    },
    {
      "cell_type": "code",
      "metadata": {
        "id": "f90f68c6",
        "outputId": "9b15543f-609d-4990-c91f-0361d87faa22"
      },
      "source": [
        "s1=var(sample1,x1bar)\n",
        "s2=var(sample2,x2bar)\n",
        "s3=var(sample3,x3bar)\n",
        "print(s1,s2,s3)"
      ],
      "id": "f90f68c6",
      "execution_count": null,
      "outputs": [
        {
          "name": "stdout",
          "output_type": "stream",
          "text": [
            "71.15555555555491 23.12222222222287 28.01111111111176\n"
          ]
        }
      ]
    },
    {
      "cell_type": "code",
      "metadata": {
        "id": "b52127fa",
        "outputId": "faeab448-f341-4cc4-e83c-fcfaf6f78cfa"
      },
      "source": [
        "# here we find total sample variance\n",
        "t1=[i**2 for i in sample1]\n",
        "t2=[i**2 for i in sample2]\n",
        "t3=[i**2 for i in sample3]\n",
        "tss=sum(t1)+sum(t2)+sum(t3)\n",
        "tss"
      ],
      "id": "b52127fa",
      "execution_count": null,
      "outputs": [
        {
          "data": {
            "text/plain": [
              "222142"
            ]
          },
          "execution_count": 13,
          "metadata": {},
          "output_type": "execute_result"
        }
      ]
    },
    {
      "cell_type": "code",
      "metadata": {
        "id": "6d1214a8",
        "outputId": "e684f62b-cc5e-4809-e4d4-274794601e83"
      },
      "source": [
        "Tv=((tss)-((xbar**2)*30))/29\n",
        "Tv"
      ],
      "id": "6d1214a8",
      "execution_count": null,
      "outputs": [
        {
          "data": {
            "text/plain": [
              "44.57931034482819"
            ]
          },
          "execution_count": 14,
          "metadata": {},
          "output_type": "execute_result"
        }
      ]
    },
    {
      "cell_type": "code",
      "metadata": {
        "id": "7de23123"
      },
      "source": [
        "import pandas as pd"
      ],
      "id": "7de23123",
      "execution_count": null,
      "outputs": []
    },
    {
      "cell_type": "code",
      "metadata": {
        "id": "8ce95692"
      },
      "source": [
        "name=['sample1','sample2','sample3','Total']\n",
        "ssize=[10,10,10,30]\n",
        "sm=[83.4,89.3,84.7,85.8]\n",
        "sv=[71.15555555555491,23.12222222222287,28.01111111111176,44.57931034482819]"
      ],
      "id": "8ce95692",
      "execution_count": null,
      "outputs": []
    },
    {
      "cell_type": "code",
      "metadata": {
        "id": "49322a2d"
      },
      "source": [
        "name_ser = pd.Series(name)\n",
        "ssize_ser = pd.Series(ssize)\n",
        "sm_ser = pd.Series(sm)\n",
        "sv_ser = pd.Series(sv)"
      ],
      "id": "49322a2d",
      "execution_count": null,
      "outputs": []
    },
    {
      "cell_type": "code",
      "metadata": {
        "id": "2c22b582",
        "outputId": "73d02854-ae1a-463d-866d-2f1103804655"
      },
      "source": [
        "data_dict = {'Groups':name_ser,'sample size':ssize_ser,'sample mean':sm_ser,'sample variance':sv_ser}\n",
        "df = pd.DataFrame(data_dict)\n",
        "df"
      ],
      "id": "2c22b582",
      "execution_count": null,
      "outputs": [
        {
          "data": {
            "text/html": [
              "<div>\n",
              "<style scoped>\n",
              "    .dataframe tbody tr th:only-of-type {\n",
              "        vertical-align: middle;\n",
              "    }\n",
              "\n",
              "    .dataframe tbody tr th {\n",
              "        vertical-align: top;\n",
              "    }\n",
              "\n",
              "    .dataframe thead th {\n",
              "        text-align: right;\n",
              "    }\n",
              "</style>\n",
              "<table border=\"1\" class=\"dataframe\">\n",
              "  <thead>\n",
              "    <tr style=\"text-align: right;\">\n",
              "      <th></th>\n",
              "      <th>Groups</th>\n",
              "      <th>sample size</th>\n",
              "      <th>sample mean</th>\n",
              "      <th>sample variance</th>\n",
              "    </tr>\n",
              "  </thead>\n",
              "  <tbody>\n",
              "    <tr>\n",
              "      <th>0</th>\n",
              "      <td>sample1</td>\n",
              "      <td>10</td>\n",
              "      <td>83.4</td>\n",
              "      <td>71.155556</td>\n",
              "    </tr>\n",
              "    <tr>\n",
              "      <th>1</th>\n",
              "      <td>sample2</td>\n",
              "      <td>10</td>\n",
              "      <td>89.3</td>\n",
              "      <td>23.122222</td>\n",
              "    </tr>\n",
              "    <tr>\n",
              "      <th>2</th>\n",
              "      <td>sample3</td>\n",
              "      <td>10</td>\n",
              "      <td>84.7</td>\n",
              "      <td>28.011111</td>\n",
              "    </tr>\n",
              "    <tr>\n",
              "      <th>3</th>\n",
              "      <td>Total</td>\n",
              "      <td>30</td>\n",
              "      <td>85.8</td>\n",
              "      <td>44.579310</td>\n",
              "    </tr>\n",
              "  </tbody>\n",
              "</table>\n",
              "</div>"
            ],
            "text/plain": [
              "    Groups  sample size  sample mean  sample variance\n",
              "0  sample1           10         83.4        71.155556\n",
              "1  sample2           10         89.3        23.122222\n",
              "2  sample3           10         84.7        28.011111\n",
              "3    Total           30         85.8        44.579310"
            ]
          },
          "execution_count": 18,
          "metadata": {},
          "output_type": "execute_result"
        }
      ]
    },
    {
      "cell_type": "code",
      "metadata": {
        "id": "49cf8c30"
      },
      "source": [
        "k=3\n",
        "nk=10"
      ],
      "id": "49cf8c30",
      "execution_count": null,
      "outputs": []
    },
    {
      "cell_type": "markdown",
      "metadata": {
        "id": "e1194744"
      },
      "source": [
        "# we find sum of square between sample=sum(nk(x_ibar-xbar)**2)\n",
        "# Degree of freedom for SSB = k-1, k= no. of samples or groups\n",
        "# Mean square between sample= SSB/k-1"
      ],
      "id": "e1194744"
    },
    {
      "cell_type": "code",
      "metadata": {
        "id": "f1eafd83",
        "outputId": "ed4eb8e2-e617-4513-e298-6c90d75ee41b"
      },
      "source": [
        "SSB=((n1*((x1bar-xbar)**2))+(n2*((x2bar-xbar)**2))+(n3*((x3bar-xbar)**2)))\n",
        "DF1=k-1\n",
        "MSB=SSB/DF1\n",
        "print(SSB)\n",
        "print(DF1)\n",
        "print(MSB)"
      ],
      "id": "f1eafd83",
      "execution_count": null,
      "outputs": [
        {
          "name": "stdout",
          "output_type": "stream",
          "text": [
            "192.19999999999948\n",
            "2\n",
            "96.09999999999974\n"
          ]
        }
      ]
    },
    {
      "cell_type": "markdown",
      "metadata": {
        "id": "10635f2a"
      },
      "source": [
        "# we find sum of square within sample=sum((nk-1)*sk**2)\n",
        "# Degree of freedom for SSW = n-k\n",
        "# Mean square for within sample = SSW/n-k"
      ],
      "id": "10635f2a"
    },
    {
      "cell_type": "code",
      "metadata": {
        "id": "bd4701ef",
        "outputId": "ecfb519c-aa3f-4a29-c6cf-e40ba5a6e838"
      },
      "source": [
        "SSW=(((nk-1)*s1)+((nk-1)*s2)+((nk-1)*s3))\n",
        "DF2=n-k\n",
        "MSW=SSW/DF2\n",
        "print(SSW)\n",
        "print(DF2)\n",
        "print(MSW)\n"
      ],
      "id": "bd4701ef",
      "execution_count": null,
      "outputs": [
        {
          "name": "stdout",
          "output_type": "stream",
          "text": [
            "1100.6000000000058\n",
            "27\n",
            "40.76296296296318\n"
          ]
        }
      ]
    },
    {
      "cell_type": "markdown",
      "metadata": {
        "id": "daa216fa"
      },
      "source": [
        "# we find Total sum of square  TSS= SSB+SSW\n",
        "## Degree of freedom for TSS = n-1\n",
        "## Mean square for within sample = TSS/n-1"
      ],
      "id": "daa216fa"
    },
    {
      "cell_type": "code",
      "metadata": {
        "id": "e4fbfcde",
        "outputId": "d1a73bd7-018d-4c87-ce47-643b93514f2a"
      },
      "source": [
        "\n",
        "TSS=SSB+SSB\n",
        "DF3=n-1\n",
        "MST=TSS/DF3\n",
        "print(TSS)\n",
        "print(DF3)\n",
        "print(MST)\n"
      ],
      "id": "e4fbfcde",
      "execution_count": null,
      "outputs": [
        {
          "name": "stdout",
          "output_type": "stream",
          "text": [
            "384.39999999999895\n",
            "29\n",
            "13.255172413793067\n"
          ]
        }
      ]
    },
    {
      "cell_type": "markdown",
      "metadata": {
        "id": "2a24be9d"
      },
      "source": [
        "# Here we find calculated value of F = MSB/MSW"
      ],
      "id": "2a24be9d"
    },
    {
      "cell_type": "code",
      "metadata": {
        "id": "2706ae13",
        "outputId": "c4ac5dee-7492-469c-d1a0-6453f57e440d"
      },
      "source": [
        "calF=MSB/MSW\n",
        "calF"
      ],
      "id": "2706ae13",
      "execution_count": null,
      "outputs": [
        {
          "data": {
            "text/plain": [
              "2.3575322551335445"
            ]
          },
          "execution_count": 26,
          "metadata": {},
          "output_type": "execute_result"
        }
      ]
    },
    {
      "cell_type": "code",
      "metadata": {
        "id": "2d8c54aa"
      },
      "source": [
        "name1=['Between sample','Within sample','Total']\n",
        "DF=[2,27,29]\n",
        "SS=[192.19999999999948,1100.6000000000058,384.39999999999895]\n",
        "MS=[96.09999999999974,40.76296296296318]\n",
        "F=[2.3575322551335445]"
      ],
      "id": "2d8c54aa",
      "execution_count": null,
      "outputs": []
    },
    {
      "cell_type": "code",
      "metadata": {
        "id": "7465b528"
      },
      "source": [
        "name1_ser = pd.Series(name1)\n",
        "DF_ser = pd.Series(DF)\n",
        "SS_ser = pd.Series(SS)\n",
        "MS_ser = pd.Series(MS)\n",
        "F_ser = pd.Series(F)"
      ],
      "id": "7465b528",
      "execution_count": null,
      "outputs": []
    },
    {
      "cell_type": "code",
      "metadata": {
        "id": "43e169a7",
        "outputId": "08893a7b-eaae-493e-cb1c-5eb7248639a3"
      },
      "source": [
        "data1_dict = {'Source':name1_ser,'DF':DF_ser,'Sum of square':SS_ser,'Mean square':MS_ser,'F value':F_ser}\n",
        "df1 = pd.DataFrame(data1_dict)\n",
        "df1"
      ],
      "id": "43e169a7",
      "execution_count": null,
      "outputs": [
        {
          "data": {
            "text/html": [
              "<div>\n",
              "<style scoped>\n",
              "    .dataframe tbody tr th:only-of-type {\n",
              "        vertical-align: middle;\n",
              "    }\n",
              "\n",
              "    .dataframe tbody tr th {\n",
              "        vertical-align: top;\n",
              "    }\n",
              "\n",
              "    .dataframe thead th {\n",
              "        text-align: right;\n",
              "    }\n",
              "</style>\n",
              "<table border=\"1\" class=\"dataframe\">\n",
              "  <thead>\n",
              "    <tr style=\"text-align: right;\">\n",
              "      <th></th>\n",
              "      <th>Source</th>\n",
              "      <th>DF</th>\n",
              "      <th>Sum of square</th>\n",
              "      <th>Mean square</th>\n",
              "      <th>F value</th>\n",
              "    </tr>\n",
              "  </thead>\n",
              "  <tbody>\n",
              "    <tr>\n",
              "      <th>0</th>\n",
              "      <td>Between sample</td>\n",
              "      <td>2</td>\n",
              "      <td>192.2</td>\n",
              "      <td>96.100000</td>\n",
              "      <td>2.357532</td>\n",
              "    </tr>\n",
              "    <tr>\n",
              "      <th>1</th>\n",
              "      <td>Within sample</td>\n",
              "      <td>27</td>\n",
              "      <td>1100.6</td>\n",
              "      <td>40.762963</td>\n",
              "      <td>NaN</td>\n",
              "    </tr>\n",
              "    <tr>\n",
              "      <th>2</th>\n",
              "      <td>Total</td>\n",
              "      <td>29</td>\n",
              "      <td>384.4</td>\n",
              "      <td>NaN</td>\n",
              "      <td>NaN</td>\n",
              "    </tr>\n",
              "  </tbody>\n",
              "</table>\n",
              "</div>"
            ],
            "text/plain": [
              "           Source  DF  Sum of square  Mean square   F value\n",
              "0  Between sample   2          192.2    96.100000  2.357532\n",
              "1   Within sample  27         1100.6    40.762963       NaN\n",
              "2           Total  29          384.4          NaN       NaN"
            ]
          },
          "execution_count": 29,
          "metadata": {},
          "output_type": "execute_result"
        }
      ]
    },
    {
      "cell_type": "markdown",
      "metadata": {
        "id": "8559642e"
      },
      "source": [
        "# Calculating Critical value for F Statistic"
      ],
      "id": "8559642e"
    },
    {
      "cell_type": "code",
      "metadata": {
        "id": "437fed83"
      },
      "source": [
        "import scipy.stats as stats"
      ],
      "id": "437fed83",
      "execution_count": null,
      "outputs": []
    },
    {
      "cell_type": "code",
      "metadata": {
        "id": "ab9af3a2",
        "outputId": "d0b8776c-ae92-4193-d800-98a851717452"
      },
      "source": [
        "TabF=stats.f.ppf(1-0.05,2,27)\n",
        "TabF"
      ],
      "id": "ab9af3a2",
      "execution_count": null,
      "outputs": [
        {
          "data": {
            "text/plain": [
              "3.3541308285291986"
            ]
          },
          "execution_count": 34,
          "metadata": {},
          "output_type": "execute_result"
        }
      ]
    },
    {
      "cell_type": "markdown",
      "metadata": {
        "id": "27051839"
      },
      "source": [
        "# Conclusion\n",
        "\n",
        "## Since CalF < TabF Hence we fail to reject H0,we accept  H1 at 5 % level of significance, And hence this means we do not have sufficient evidence to say that there is a difference in exam scores among the three studying techniques."
      ],
      "id": "27051839"
    },
    {
      "cell_type": "code",
      "metadata": {
        "id": "08a6760d"
      },
      "source": [
        ""
      ],
      "id": "08a6760d",
      "execution_count": null,
      "outputs": []
    }
  ]
}