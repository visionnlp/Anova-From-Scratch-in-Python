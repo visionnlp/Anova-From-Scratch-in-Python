{
  "nbformat": 4,
  "nbformat_minor": 5,
  "metadata": {
    "kernelspec": {
      "display_name": "Python 3",
      "language": "python",
      "name": "python3"
    },
    "language_info": {
      "codemirror_mode": {
        "name": "ipython",
        "version": 3
      },
      "file_extension": ".py",
      "mimetype": "text/x-python",
      "name": "python",
      "nbconvert_exporter": "python",
      "pygments_lexer": "ipython3",
      "version": "3.8.8"
    },
    "colab": {
      "name": "F Test.ipynb",
      "provenance": [],
      "include_colab_link": true
    }
  },
  "cells": [
    {
      "cell_type": "markdown",
      "metadata": {
        "id": "view-in-github",
        "colab_type": "text"
      },
      "source": [
        "<a href=\"https://colab.research.google.com/github/visionnlp/Anova-From-Scratch-in-Python/blob/main/F_Test.ipynb\" target=\"_parent\"><img src=\"https://colab.research.google.com/assets/colab-badge.svg\" alt=\"Open In Colab\"/></a>"
      ]
    },
    {
      "cell_type": "markdown",
      "metadata": {
        "id": "c6e9cf05"
      },
      "source": [
        "# F test"
      ],
      "id": "c6e9cf05"
    },
    {
      "cell_type": "markdown",
      "metadata": {
        "id": "5b8a94d8"
      },
      "source": [
        "F test is used for testing the camparision of two population variances.\n",
        "\n",
        "\n",
        "\n",
        "i.e \n",
        "\n",
        "\n",
        "\n",
        "    Ho : Population variences are equal (σ1^2 = σ2^2)\n",
        "    V/S\n",
        "    H1 : Poulation variance are not equal (σ1^2 ≠ σ2^2)"
      ],
      "id": "5b8a94d8"
    },
    {
      "cell_type": "code",
      "metadata": {
        "id": "2659b2b0"
      },
      "source": [
        "# For example, we get following two data set And we want to apply F test for these data.\n",
        "x = [18, 19, 22, 25, 27, 28, 41, 45, 51, 55]\n",
        "y = [14, 15, 15, 17, 18, 22, 25, 25, 27, 34]"
      ],
      "id": "2659b2b0",
      "execution_count": null,
      "outputs": []
    },
    {
      "cell_type": "code",
      "metadata": {
        "id": "91f8b56e",
        "outputId": "40ba1732-25f3-4111-af42-31982cbadec1"
      },
      "source": [
        "n=len(x)\n",
        "n"
      ],
      "id": "91f8b56e",
      "execution_count": null,
      "outputs": [
        {
          "data": {
            "text/plain": [
              "10"
            ]
          },
          "execution_count": 18,
          "metadata": {},
          "output_type": "execute_result"
        }
      ]
    },
    {
      "cell_type": "code",
      "metadata": {
        "id": "acfd677c"
      },
      "source": [
        "# here we define function of mean\n",
        "def mean(data):\n",
        "    return sum(data)/n\n",
        "    \n",
        "    "
      ],
      "id": "acfd677c",
      "execution_count": null,
      "outputs": []
    },
    {
      "cell_type": "code",
      "metadata": {
        "id": "2349f6c7",
        "outputId": "9c03db5c-a9a6-4b93-9b7c-5cfd347ec170"
      },
      "source": [
        "x_bar=mean(x)\n",
        "x_bar"
      ],
      "id": "2349f6c7",
      "execution_count": null,
      "outputs": [
        {
          "data": {
            "text/plain": [
              "33.1"
            ]
          },
          "execution_count": 29,
          "metadata": {},
          "output_type": "execute_result"
        }
      ]
    },
    {
      "cell_type": "code",
      "metadata": {
        "id": "373762ba",
        "outputId": "a71a7152-3194-4bc7-f862-fd739cd9a0e3"
      },
      "source": [
        "y_bar=mean(y)\n",
        "y_bar"
      ],
      "id": "373762ba",
      "execution_count": null,
      "outputs": [
        {
          "data": {
            "text/plain": [
              "21.2"
            ]
          },
          "execution_count": 30,
          "metadata": {},
          "output_type": "execute_result"
        }
      ]
    },
    {
      "cell_type": "code",
      "metadata": {
        "id": "01b46138"
      },
      "source": [
        ""
      ],
      "id": "01b46138",
      "execution_count": null,
      "outputs": []
    },
    {
      "cell_type": "code",
      "metadata": {
        "id": "bda5c7fd",
        "outputId": "66862501-effc-4c8f-890f-839fadb41718"
      },
      "source": [
        "# here we calculate variance x for first data set.\n",
        "vx=((sum([i**2 for i in x]))/n)-(x_bar**2)\n",
        "vx"
      ],
      "id": "bda5c7fd",
      "execution_count": null,
      "outputs": [
        {
          "data": {
            "text/plain": [
              "168.28999999999996"
            ]
          },
          "execution_count": 12,
          "metadata": {},
          "output_type": "execute_result"
        }
      ]
    },
    {
      "cell_type": "code",
      "metadata": {
        "id": "ff63b985",
        "outputId": "9facbf26-1c22-4572-a250-0a4be4056f5d"
      },
      "source": [
        "# here we calculate variance y for second data set.\n",
        "vy=((sum([j**2 for j in y]))/n)-(y_bar**2)\n",
        "vy"
      ],
      "id": "ff63b985",
      "execution_count": null,
      "outputs": [
        {
          "data": {
            "text/plain": [
              "38.360000000000014"
            ]
          },
          "execution_count": 13,
          "metadata": {},
          "output_type": "execute_result"
        }
      ]
    },
    {
      "cell_type": "code",
      "metadata": {
        "id": "5a465044",
        "outputId": "1c6dc439-d87b-4b44-aba1-5576e0a8d32a"
      },
      "source": [
        "# Calculating test statistic for F test\n",
        "CalF=vx/vy\n",
        "CalF"
      ],
      "id": "5a465044",
      "execution_count": null,
      "outputs": [
        {
          "data": {
            "text/plain": [
              "4.387122002085503"
            ]
          },
          "execution_count": 24,
          "metadata": {},
          "output_type": "execute_result"
        }
      ]
    },
    {
      "cell_type": "code",
      "metadata": {
        "id": "f81e4b0c"
      },
      "source": [
        "# Calculating Critical value for F test\n",
        "import scipy.stats as stats"
      ],
      "id": "f81e4b0c",
      "execution_count": null,
      "outputs": []
    },
    {
      "cell_type": "code",
      "metadata": {
        "id": "b2d01f26",
        "outputId": "ebe41d44-fccb-4339-b567-768591ea1865"
      },
      "source": [
        "TabF=stats.f.ppf(1-(0.05/2),9,9)\n",
        "TabF"
      ],
      "id": "b2d01f26",
      "execution_count": null,
      "outputs": [
        {
          "data": {
            "text/plain": [
              "4.025994158282978"
            ]
          },
          "execution_count": 32,
          "metadata": {},
          "output_type": "execute_result"
        }
      ]
    },
    {
      "cell_type": "code",
      "metadata": {
        "id": "c1307ae1"
      },
      "source": [
        "## Here CalT > TabT hence, we reject Ho at 5% LOS. Hence\n",
        "## we conclued that the population variance are not equal(i.e σ1^2 ≠ σ2^2)."
      ],
      "id": "c1307ae1",
      "execution_count": null,
      "outputs": []
    }
  ]
}