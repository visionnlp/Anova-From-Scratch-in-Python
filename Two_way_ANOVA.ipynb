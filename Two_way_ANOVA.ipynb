{
  "nbformat": 4,
  "nbformat_minor": 5,
  "metadata": {
    "kernelspec": {
      "display_name": "Python 3",
      "language": "python",
      "name": "python3"
    },
    "language_info": {
      "codemirror_mode": {
        "name": "ipython",
        "version": 3
      },
      "file_extension": ".py",
      "mimetype": "text/x-python",
      "name": "python",
      "nbconvert_exporter": "python",
      "pygments_lexer": "ipython3",
      "version": "3.8.8"
    },
    "colab": {
      "name": "Two way ANOVA.ipynb",
      "provenance": [],
      "include_colab_link": true
    }
  },
  "cells": [
    {
      "cell_type": "markdown",
      "metadata": {
        "id": "view-in-github",
        "colab_type": "text"
      },
      "source": [
        "<a href=\"https://colab.research.google.com/github/visionnlp/Anova-From-Scratch-in-Python/blob/main/Two_way_ANOVA.ipynb\" target=\"_parent\"><img src=\"https://colab.research.google.com/assets/colab-badge.svg\" alt=\"Open In Colab\"/></a>"
      ]
    },
    {
      "cell_type": "markdown",
      "metadata": {
        "id": "915ac177"
      },
      "source": [
        "# Two Way ANOVA"
      ],
      "id": "915ac177"
    },
    {
      "cell_type": "markdown",
      "metadata": {
        "id": "76e3214f"
      },
      "source": [
        "ANOVA (Analysis of Variance) is a statistical test used to analyze the difference between the means of more than two groups."
      ],
      "id": "76e3214f"
    },
    {
      "cell_type": "markdown",
      "metadata": {
        "id": "338b530c"
      },
      "source": [
        "## Objectives\n",
        "\n",
        "1) To examine teatments effect on perticular objects.\n",
        "\n",
        "\n",
        "2) To identify the blocks effect.\n"
      ],
      "id": "338b530c"
    },
    {
      "cell_type": "markdown",
      "metadata": {
        "id": "ede4b2ce"
      },
      "source": [
        "## Two way ANOVA model for without interaction:\n",
        "              \n",
        "              \n",
        "              µij = µ + αi + βj\n",
        "          \n",
        "          "
      ],
      "id": "ede4b2ce"
    },
    {
      "cell_type": "markdown",
      "metadata": {
        "id": "b935dbbb"
      },
      "source": [
        "## Hypothesis for first factor:\n",
        "\n",
        "H0 : µ1j = µ2j = µ3j = µ4j = µ5j = µ + βj\n",
        "     (i.e) α1 = α2 = α3 = α4 = α5 = 0\n",
        "\n",
        "V/s\n",
        "\n",
        "\n",
        "H1 : At least one of the treatment effects is different to the others"
      ],
      "id": "b935dbbb"
    },
    {
      "cell_type": "markdown",
      "metadata": {
        "id": "c72bca85"
      },
      "source": [
        "## Hypothesis for second factor:\n",
        "\n",
        "H0 : µi1 = µi2 = µi3 = µi4 = µ + αi\n",
        "     (i.e) β1 = β2 = β3 = β4 = 0\n",
        "     \n",
        "     \n",
        "     V/s\n",
        "     \n",
        "     \n",
        "\n",
        "H1 : At least one of the Block effects is different to the others"
      ],
      "id": "c72bca85"
    },
    {
      "cell_type": "markdown",
      "metadata": {
        "id": "49b27323"
      },
      "source": [
        "## Assumptions\n",
        "\n",
        "1) Homogeneity of variance\n",
        "\n",
        "\n",
        "2) Independence of observations\n",
        "\n",
        "\n",
        "3) Normally-distributed dependent variable"
      ],
      "id": "49b27323"
    },
    {
      "cell_type": "markdown",
      "metadata": {
        "id": "d4e08f53"
      },
      "source": [
        "## Example: \n",
        "\n",
        "\n",
        "treatments  Block 1  Block 2  Block 3   Block 4\n",
        "\n",
        "\n",
        "    A     46       56     55      47\n",
        "    \n",
        "    \n",
        "    B     54       55     51      56\n",
        "    \n",
        "    \n",
        "    C     48       56     50      58\n",
        "    \n",
        "    \n",
        "    D     46       60     51      59\n",
        "    \n",
        "    \n",
        "    E     51       53     53      55\n",
        " \n",
        " \n",
        " \n",
        "Use two way anova for testing treatments effect and Block effects."
      ],
      "id": "d4e08f53"
    },
    {
      "cell_type": "code",
      "metadata": {
        "id": "69139d8a"
      },
      "source": [
        "A=[46,56,55,47]\n",
        "B=[54,55,51,56]\n",
        "C=[48,56,50,58]\n",
        "D=[46,60,51,59]\n",
        "E=[51,53,53,55]\n",
        "B1=[46,54,48,46,51]\n",
        "B2=[56,55,56,60,53]\n",
        "B3=[55,51,50,51,53]\n",
        "B4=[47,56,58,59,55]"
      ],
      "id": "69139d8a",
      "execution_count": null,
      "outputs": []
    },
    {
      "cell_type": "code",
      "metadata": {
        "id": "5ba907d3",
        "outputId": "8e35ba60-f2a5-4618-8c72-fc328881af0b"
      },
      "source": [
        "m=len(A)\n",
        "n=len(B1)\n",
        "print(m)\n",
        "print(n)"
      ],
      "id": "5ba907d3",
      "execution_count": null,
      "outputs": [
        {
          "name": "stdout",
          "output_type": "stream",
          "text": [
            "4\n",
            "5\n"
          ]
        }
      ]
    },
    {
      "cell_type": "code",
      "metadata": {
        "id": "fd762f9d"
      },
      "source": [
        "N=m*n"
      ],
      "id": "fd762f9d",
      "execution_count": null,
      "outputs": []
    },
    {
      "cell_type": "code",
      "metadata": {
        "id": "47c5980f"
      },
      "source": [
        "#here we find teatment means xi.bar,i=1,2,...,m\n",
        "def mean(data):\n",
        "    return sum(data)/m"
      ],
      "id": "47c5980f",
      "execution_count": null,
      "outputs": []
    },
    {
      "cell_type": "code",
      "metadata": {
        "id": "ff671f92",
        "outputId": "5d796e66-6cf4-4122-d3dc-8ae3b15718db"
      },
      "source": [
        "x1=mean(A)\n",
        "x2=mean(B)\n",
        "x3=mean(C)\n",
        "x4=mean(D)\n",
        "x5=mean(E)\n",
        "print(x1)\n",
        "print(x2)\n",
        "print(x3)\n",
        "print(x4)\n",
        "print(x5)"
      ],
      "id": "ff671f92",
      "execution_count": null,
      "outputs": [
        {
          "name": "stdout",
          "output_type": "stream",
          "text": [
            "51.0\n",
            "54.0\n",
            "53.0\n",
            "54.0\n",
            "53.0\n"
          ]
        }
      ]
    },
    {
      "cell_type": "code",
      "metadata": {
        "id": "cd25fb7e"
      },
      "source": [
        "# here we find blocks means\n",
        "def mean(data1):\n",
        "    return sum(data1)/n"
      ],
      "id": "cd25fb7e",
      "execution_count": null,
      "outputs": []
    },
    {
      "cell_type": "code",
      "metadata": {
        "id": "38f8fe6f",
        "outputId": "0f202b29-9b5e-4c4d-d906-4e9864a4db05"
      },
      "source": [
        "y1=mean(B1)\n",
        "y2=mean(B2)\n",
        "y3=mean(B3)\n",
        "y4=mean(B4)\n",
        "print(y1)\n",
        "print(y2)\n",
        "print(y3)\n",
        "print(y4)\n"
      ],
      "id": "38f8fe6f",
      "execution_count": null,
      "outputs": [
        {
          "name": "stdout",
          "output_type": "stream",
          "text": [
            "49.0\n",
            "56.0\n",
            "52.0\n",
            "55.0\n"
          ]
        }
      ]
    },
    {
      "cell_type": "code",
      "metadata": {
        "id": "c3447db2",
        "outputId": "b8b5c25f-e47e-4f1d-b560-4ec3de2c27bf"
      },
      "source": [
        "# here we find total mean:xbar=sum(xij)/N\n",
        "\n",
        "xbar=(sum(A)+sum(B)+sum(C)+sum(D)+sum(E))/N\n",
        "xbar"
      ],
      "id": "c3447db2",
      "execution_count": null,
      "outputs": [
        {
          "data": {
            "text/plain": [
              "53.0"
            ]
          },
          "execution_count": 10,
          "metadata": {},
          "output_type": "execute_result"
        }
      ]
    },
    {
      "cell_type": "code",
      "metadata": {
        "id": "793d22e8",
        "outputId": "e711b487-d1fe-43cc-dd4e-e351725af66e"
      },
      "source": [
        "# Here we find treatment sum of square =\n",
        "t=[51.0,54.0,53.0,54.0,53.0]\n",
        "T=[(i-xbar)**2 for i in t]\n",
        "T"
      ],
      "id": "793d22e8",
      "execution_count": null,
      "outputs": [
        {
          "data": {
            "text/plain": [
              "[4.0, 1.0, 0.0, 1.0, 0.0]"
            ]
          },
          "execution_count": 11,
          "metadata": {},
          "output_type": "execute_result"
        }
      ]
    },
    {
      "cell_type": "code",
      "metadata": {
        "id": "3e3c9ad3",
        "outputId": "b099e36b-12bd-4398-c699-f7f5b596cf28"
      },
      "source": [
        "# here we find block sum of square\n",
        "b=[49.0,56.0,52.0,55.0]\n",
        "BT=[(i-xbar)**2 for i in b]\n",
        "BT"
      ],
      "id": "3e3c9ad3",
      "execution_count": null,
      "outputs": [
        {
          "data": {
            "text/plain": [
              "[16.0, 9.0, 1.0, 4.0]"
            ]
          },
          "execution_count": 12,
          "metadata": {},
          "output_type": "execute_result"
        }
      ]
    },
    {
      "cell_type": "code",
      "metadata": {
        "id": "4e14dc2a"
      },
      "source": [
        "import pandas as pd"
      ],
      "id": "4e14dc2a",
      "execution_count": null,
      "outputs": []
    },
    {
      "cell_type": "code",
      "metadata": {
        "id": "5e4ba9c4"
      },
      "source": [
        "name=['A','B','C','D','E','Block mean','sum of square block']\n",
        "b1=[46,54,48,46,51,49.0,16.0]\n",
        "b2=[56,55,56,60,53,56.0,9.0]\n",
        "b3=[55,51,50,51,53,52.0,1.0]\n",
        "b4=[47,56,58,59,55,55.0,4.0]\n",
        "T_mean=[51.0,54.0,53.0,54.0,53.0,53.0,30]\n",
        "T_ss=[4.0, 1.0, 0.0, 1.0, 0.0,6,0]"
      ],
      "id": "5e4ba9c4",
      "execution_count": null,
      "outputs": []
    },
    {
      "cell_type": "code",
      "metadata": {
        "id": "88a5ecb4",
        "outputId": "6c3333a8-6eb8-41c9-f32e-dbd31e846107"
      },
      "source": [
        "data_dict = {'Treatments & Blocks':name,'B1':b1,'B2':b2,'B3':b3,'B4':b4,'treatment mean':T_mean,'Treatment sum of square':T_ss}\n",
        "df = pd.DataFrame(data_dict)\n",
        "df"
      ],
      "id": "88a5ecb4",
      "execution_count": null,
      "outputs": [
        {
          "data": {
            "text/html": [
              "<div>\n",
              "<style scoped>\n",
              "    .dataframe tbody tr th:only-of-type {\n",
              "        vertical-align: middle;\n",
              "    }\n",
              "\n",
              "    .dataframe tbody tr th {\n",
              "        vertical-align: top;\n",
              "    }\n",
              "\n",
              "    .dataframe thead th {\n",
              "        text-align: right;\n",
              "    }\n",
              "</style>\n",
              "<table border=\"1\" class=\"dataframe\">\n",
              "  <thead>\n",
              "    <tr style=\"text-align: right;\">\n",
              "      <th></th>\n",
              "      <th>Treatments &amp; Blocks</th>\n",
              "      <th>B1</th>\n",
              "      <th>B2</th>\n",
              "      <th>B3</th>\n",
              "      <th>B4</th>\n",
              "      <th>treatment mean</th>\n",
              "      <th>Treatment sum of square</th>\n",
              "    </tr>\n",
              "  </thead>\n",
              "  <tbody>\n",
              "    <tr>\n",
              "      <th>0</th>\n",
              "      <td>A</td>\n",
              "      <td>46.0</td>\n",
              "      <td>56.0</td>\n",
              "      <td>55.0</td>\n",
              "      <td>47.0</td>\n",
              "      <td>51.0</td>\n",
              "      <td>4.0</td>\n",
              "    </tr>\n",
              "    <tr>\n",
              "      <th>1</th>\n",
              "      <td>B</td>\n",
              "      <td>54.0</td>\n",
              "      <td>55.0</td>\n",
              "      <td>51.0</td>\n",
              "      <td>56.0</td>\n",
              "      <td>54.0</td>\n",
              "      <td>1.0</td>\n",
              "    </tr>\n",
              "    <tr>\n",
              "      <th>2</th>\n",
              "      <td>C</td>\n",
              "      <td>48.0</td>\n",
              "      <td>56.0</td>\n",
              "      <td>50.0</td>\n",
              "      <td>58.0</td>\n",
              "      <td>53.0</td>\n",
              "      <td>0.0</td>\n",
              "    </tr>\n",
              "    <tr>\n",
              "      <th>3</th>\n",
              "      <td>D</td>\n",
              "      <td>46.0</td>\n",
              "      <td>60.0</td>\n",
              "      <td>51.0</td>\n",
              "      <td>59.0</td>\n",
              "      <td>54.0</td>\n",
              "      <td>1.0</td>\n",
              "    </tr>\n",
              "    <tr>\n",
              "      <th>4</th>\n",
              "      <td>E</td>\n",
              "      <td>51.0</td>\n",
              "      <td>53.0</td>\n",
              "      <td>53.0</td>\n",
              "      <td>55.0</td>\n",
              "      <td>53.0</td>\n",
              "      <td>0.0</td>\n",
              "    </tr>\n",
              "    <tr>\n",
              "      <th>5</th>\n",
              "      <td>Block mean</td>\n",
              "      <td>49.0</td>\n",
              "      <td>56.0</td>\n",
              "      <td>52.0</td>\n",
              "      <td>55.0</td>\n",
              "      <td>53.0</td>\n",
              "      <td>6.0</td>\n",
              "    </tr>\n",
              "    <tr>\n",
              "      <th>6</th>\n",
              "      <td>sum of square block</td>\n",
              "      <td>16.0</td>\n",
              "      <td>9.0</td>\n",
              "      <td>1.0</td>\n",
              "      <td>4.0</td>\n",
              "      <td>30.0</td>\n",
              "      <td>0.0</td>\n",
              "    </tr>\n",
              "  </tbody>\n",
              "</table>\n",
              "</div>"
            ],
            "text/plain": [
              "   Treatments & Blocks    B1    B2    B3    B4  treatment mean  \\\n",
              "0                    A  46.0  56.0  55.0  47.0            51.0   \n",
              "1                    B  54.0  55.0  51.0  56.0            54.0   \n",
              "2                    C  48.0  56.0  50.0  58.0            53.0   \n",
              "3                    D  46.0  60.0  51.0  59.0            54.0   \n",
              "4                    E  51.0  53.0  53.0  55.0            53.0   \n",
              "5           Block mean  49.0  56.0  52.0  55.0            53.0   \n",
              "6  sum of square block  16.0   9.0   1.0   4.0            30.0   \n",
              "\n",
              "   Treatment sum of square  \n",
              "0                      4.0  \n",
              "1                      1.0  \n",
              "2                      0.0  \n",
              "3                      1.0  \n",
              "4                      0.0  \n",
              "5                      6.0  \n",
              "6                      0.0  "
            ]
          },
          "execution_count": 15,
          "metadata": {},
          "output_type": "execute_result"
        }
      ]
    },
    {
      "cell_type": "markdown",
      "metadata": {
        "id": "dabe82ec"
      },
      "source": [
        "## here we find treatment sum of square=SSTr= m*(sum(Treatment mean-Total mean)**2)\n",
        "## Degree of Freedom=(n-1)\n",
        "## Mean sum of square=SSTr/DF"
      ],
      "id": "dabe82ec"
    },
    {
      "cell_type": "code",
      "metadata": {
        "id": "a6d1b9b3",
        "outputId": "4ff11906-c5d4-4ce3-bcd6-07cbd94a0107"
      },
      "source": [
        "SSTr=m*6\n",
        "dft=n-1\n",
        "MST=SSTr/dft\n",
        "print(SSTr)\n",
        "print(dft)\n",
        "print(MST)\n"
      ],
      "id": "a6d1b9b3",
      "execution_count": null,
      "outputs": [
        {
          "name": "stdout",
          "output_type": "stream",
          "text": [
            "24\n",
            "4\n",
            "6.0\n"
          ]
        }
      ]
    },
    {
      "cell_type": "markdown",
      "metadata": {
        "id": "72ac5172"
      },
      "source": [
        "## here we find Block sum of square=SSB= n*(sum(Block mean-Total mean)**2)\n",
        "## Degree of Freedom=(m-1)\n",
        "## Mean sum of square=SSB/DF"
      ],
      "id": "72ac5172"
    },
    {
      "cell_type": "code",
      "metadata": {
        "id": "bcdf98e2",
        "outputId": "7d9ba76f-1f75-426d-efe9-00d76d3c6204"
      },
      "source": [
        "SSB=n*30\n",
        "dfb=m-1\n",
        "MSB=SSB/dfb\n",
        "print(SSB)\n",
        "print(dfb)\n",
        "print(MSB)"
      ],
      "id": "bcdf98e2",
      "execution_count": null,
      "outputs": [
        {
          "name": "stdout",
          "output_type": "stream",
          "text": [
            "150\n",
            "3\n",
            "50.0\n"
          ]
        }
      ]
    },
    {
      "cell_type": "markdown",
      "metadata": {
        "id": "fffadbff"
      },
      "source": [
        "## here we find Total sum of square=TSS= (sum(Xij-total mean)**2)\n",
        "## Degree of Freedom=(n*m-1)"
      ],
      "id": "fffadbff"
    },
    {
      "cell_type": "code",
      "metadata": {
        "id": "6bce5116",
        "outputId": "673f5f5b-6047-4330-fc8d-791a720a3148"
      },
      "source": [
        "s1=[(i-xbar)**2 for i in A]\n",
        "s2=[(i-xbar)**2 for i in B]\n",
        "s3=[(i-xbar)**2 for i in C]\n",
        "s4=[(i-xbar)**2 for i in D]\n",
        "s5=[(i-xbar)**2 for i in E]\n",
        "s2"
      ],
      "id": "6bce5116",
      "execution_count": null,
      "outputs": [
        {
          "data": {
            "text/plain": [
              "[1.0, 4.0, 4.0, 9.0]"
            ]
          },
          "execution_count": 25,
          "metadata": {},
          "output_type": "execute_result"
        }
      ]
    },
    {
      "cell_type": "code",
      "metadata": {
        "id": "6596bbfd",
        "outputId": "cdcba4b9-f95a-44e4-851e-94819e36195c"
      },
      "source": [
        "TSS=sum(s1)+sum(s2)+sum(s3)+sum(s4)+sum(s5)\n",
        "print(TSS)\n",
        "dfT=(m*n)-1\n",
        "print(dfT)"
      ],
      "id": "6596bbfd",
      "execution_count": null,
      "outputs": [
        {
          "name": "stdout",
          "output_type": "stream",
          "text": [
            "330.0\n",
            "19\n"
          ]
        }
      ]
    },
    {
      "cell_type": "markdown",
      "metadata": {
        "id": "0e1c4175"
      },
      "source": [
        "## here we find Error sum of sqaure=SSE=TSS-SSTr-SSB\n",
        "## Degree of Freedom=(m-1)*(n-1)\n",
        "## Mean sum of square=SSE/DF"
      ],
      "id": "0e1c4175"
    },
    {
      "cell_type": "code",
      "metadata": {
        "id": "ea771b19",
        "outputId": "4f9cba1b-9ec2-4514-d489-57732800e118"
      },
      "source": [
        "SSE=TSS-SSTr-SSB\n",
        "dfe=(m-1)*(n-1)\n",
        "MSE=SSE/dfe\n",
        "print(SSE)\n",
        "print(dfe)\n",
        "print(MSE)"
      ],
      "id": "ea771b19",
      "execution_count": null,
      "outputs": [
        {
          "name": "stdout",
          "output_type": "stream",
          "text": [
            "156.0\n",
            "12\n",
            "13.0\n"
          ]
        }
      ]
    },
    {
      "cell_type": "markdown",
      "metadata": {
        "id": "105d42fa"
      },
      "source": [
        "## here we find the calculated value of F-test statistic for treatment"
      ],
      "id": "105d42fa"
    },
    {
      "cell_type": "code",
      "metadata": {
        "id": "1f60c243",
        "outputId": "2bc6cb44-2c12-4cf6-93d0-8419635d7177"
      },
      "source": [
        "Cal_Ft=MST/MSE\n",
        "Cal_Ft"
      ],
      "id": "1f60c243",
      "execution_count": null,
      "outputs": [
        {
          "data": {
            "text/plain": [
              "0.46153846153846156"
            ]
          },
          "execution_count": 39,
          "metadata": {},
          "output_type": "execute_result"
        }
      ]
    },
    {
      "cell_type": "markdown",
      "metadata": {
        "id": "c481a638"
      },
      "source": [
        "## here we find the calculated value of F-test statistic for block"
      ],
      "id": "c481a638"
    },
    {
      "cell_type": "code",
      "metadata": {
        "id": "3877f66c",
        "outputId": "c5b464e4-4f13-4afd-f8de-dbc8ce8167a9"
      },
      "source": [
        "Cal_Fb=MSB/MSE\n",
        "Cal_Fb"
      ],
      "id": "3877f66c",
      "execution_count": null,
      "outputs": [
        {
          "data": {
            "text/plain": [
              "3.8461538461538463"
            ]
          },
          "execution_count": 40,
          "metadata": {},
          "output_type": "execute_result"
        }
      ]
    },
    {
      "cell_type": "code",
      "metadata": {
        "id": "d922fa22"
      },
      "source": [
        "name1=['Between sample(due to treatment)','Between sample(due to blocks)','Within sample(due to chance of error)','Total']\n",
        "c1=[24,150,156,330]\n",
        "c2=[4,3,12,19]\n",
        "c3=[6,50,19,0]\n",
        "c4=[0.46153846153846156,3.8461538461538463,0,0]\n"
      ],
      "id": "d922fa22",
      "execution_count": null,
      "outputs": []
    },
    {
      "cell_type": "code",
      "metadata": {
        "id": "355292b8",
        "outputId": "2f8980f1-33ff-4fe2-ccbc-7fff3b97dc19"
      },
      "source": [
        "data1_dict = {'Source of variation':name1,'Sum of square':c1,'DF':c2,'Mean square':c3,'F value':c4}\n",
        "df1 = pd.DataFrame(data1_dict)\n",
        "df1"
      ],
      "id": "355292b8",
      "execution_count": null,
      "outputs": [
        {
          "data": {
            "text/html": [
              "<div>\n",
              "<style scoped>\n",
              "    .dataframe tbody tr th:only-of-type {\n",
              "        vertical-align: middle;\n",
              "    }\n",
              "\n",
              "    .dataframe tbody tr th {\n",
              "        vertical-align: top;\n",
              "    }\n",
              "\n",
              "    .dataframe thead th {\n",
              "        text-align: right;\n",
              "    }\n",
              "</style>\n",
              "<table border=\"1\" class=\"dataframe\">\n",
              "  <thead>\n",
              "    <tr style=\"text-align: right;\">\n",
              "      <th></th>\n",
              "      <th>Source of variation</th>\n",
              "      <th>Sum of square</th>\n",
              "      <th>DF</th>\n",
              "      <th>Mean square</th>\n",
              "      <th>F value</th>\n",
              "    </tr>\n",
              "  </thead>\n",
              "  <tbody>\n",
              "    <tr>\n",
              "      <th>0</th>\n",
              "      <td>Between sample(due to treatment)</td>\n",
              "      <td>24</td>\n",
              "      <td>4</td>\n",
              "      <td>6</td>\n",
              "      <td>0.461538</td>\n",
              "    </tr>\n",
              "    <tr>\n",
              "      <th>1</th>\n",
              "      <td>Between sample(due to blocks)</td>\n",
              "      <td>150</td>\n",
              "      <td>3</td>\n",
              "      <td>50</td>\n",
              "      <td>3.846154</td>\n",
              "    </tr>\n",
              "    <tr>\n",
              "      <th>2</th>\n",
              "      <td>Within sample(due to chance of error)</td>\n",
              "      <td>156</td>\n",
              "      <td>12</td>\n",
              "      <td>19</td>\n",
              "      <td>0.000000</td>\n",
              "    </tr>\n",
              "    <tr>\n",
              "      <th>3</th>\n",
              "      <td>Total</td>\n",
              "      <td>330</td>\n",
              "      <td>19</td>\n",
              "      <td>0</td>\n",
              "      <td>0.000000</td>\n",
              "    </tr>\n",
              "  </tbody>\n",
              "</table>\n",
              "</div>"
            ],
            "text/plain": [
              "                     Source of variation  Sum of square  DF  Mean square  \\\n",
              "0       Between sample(due to treatment)             24   4            6   \n",
              "1          Between sample(due to blocks)            150   3           50   \n",
              "2  Within sample(due to chance of error)            156  12           19   \n",
              "3                                  Total            330  19            0   \n",
              "\n",
              "    F value  \n",
              "0  0.461538  \n",
              "1  3.846154  \n",
              "2  0.000000  \n",
              "3  0.000000  "
            ]
          },
          "execution_count": 37,
          "metadata": {},
          "output_type": "execute_result"
        }
      ]
    },
    {
      "cell_type": "code",
      "metadata": {
        "id": "6d60a92c"
      },
      "source": [
        "# Calculating Critical value for F test\n",
        "import scipy.stats as stats"
      ],
      "id": "6d60a92c",
      "execution_count": null,
      "outputs": []
    },
    {
      "cell_type": "code",
      "metadata": {
        "id": "c5415a4c",
        "outputId": "0e615d08-f82a-4e36-975c-afc3b93a9811"
      },
      "source": [
        "TabFt=stats.f.ppf(1-(0.05),4,12)\n",
        "TabFt"
      ],
      "id": "c5415a4c",
      "execution_count": null,
      "outputs": [
        {
          "data": {
            "text/plain": [
              "3.259166726901249"
            ]
          },
          "execution_count": 44,
          "metadata": {},
          "output_type": "execute_result"
        }
      ]
    },
    {
      "cell_type": "code",
      "metadata": {
        "id": "776afa34",
        "outputId": "ed06f61b-b99c-4ac8-9d12-63975fdff4eb"
      },
      "source": [
        "TabFb=stats.f.ppf(1-(0.05),3,12)\n",
        "TabFb"
      ],
      "id": "776afa34",
      "execution_count": null,
      "outputs": [
        {
          "data": {
            "text/plain": [
              "3.490294819497605"
            ]
          },
          "execution_count": 43,
          "metadata": {},
          "output_type": "execute_result"
        }
      ]
    },
    {
      "cell_type": "markdown",
      "metadata": {
        "id": "e0651408"
      },
      "source": [
        "# Conclusion"
      ],
      "id": "e0651408"
    },
    {
      "cell_type": "markdown",
      "metadata": {
        "id": "73fcb86a"
      },
      "source": [
        "## Case-1: Since, CalFt>TabFt we conclude that we do not have sufficient evidence to reject the null hypothesis that there is no difference between the Treatments.\n",
        "\n",
        "## Case-2: Since, CalFb<TabFb  we conclude that we do have sufficient evidence at the 5% level of significance to reject the null hypothesis that there in no difference between the Blocks.\n"
      ],
      "id": "73fcb86a"
    }
  ]
}